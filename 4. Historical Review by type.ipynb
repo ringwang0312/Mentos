{
 "cells": [
  {
   "cell_type": "code",
   "execution_count": 2,
   "metadata": {},
   "outputs": [],
   "source": [
    "import requests\n",
    "import pandas as pd\n",
    "from config import ykey\n",
    "import numpy as np\n",
    "from matplotlib import pyplot as plt\n",
    "import json\n",
    "import pprint"
   ]
  },
  {
   "cell_type": "code",
   "execution_count": 10,
   "metadata": {},
   "outputs": [
    {
     "data": {
      "text/plain": [
       "['5Fz1WlY3lxy8gJFs8s_1Dw',\n",
       " 'eTR6nfHvQzvKX7Dcd6JrfA',\n",
       " 'BPZfuPvSxCfoppU4lPFm0Q',\n",
       " 'pCfGgX0WxGASGM4-Yhr2Pw',\n",
       " 'VvsZAnEwU4c8Xkyrzx05Nw',\n",
       " 'kxykwx5qTWBhlMh18MQ82Q',\n",
       " 'Sj3JYCbaEFrAqUzRrenQbg',\n",
       " 'EvLkJaWEXTZ8QNBrxOhDsA',\n",
       " '0GN6l4FAknTFSWZhEan45A',\n",
       " 'NDIrifAl6K-RrnZ2D3ZGbw',\n",
       " 'xtxcAUvrD4dWHJd0cwvW1A',\n",
       " 'TTGFxOebpxfLVVFqfZemKA',\n",
       " 'qEe7nIhPfEL6L0-VYhWRrA',\n",
       " 'EbX_9tqAJs4gW51gZpOB7g',\n",
       " '0dDCDQz7DrKkSvu9h2hcQw',\n",
       " 'BKMCAYb9EAivUm3p-vrC9w',\n",
       " 'VqnPcfqYltgxAkIuTaGkYg',\n",
       " '0k678lCWQyReNi0lARlOmw',\n",
       " 'F37Gp6exe2v8yuzr_gy5BQ',\n",
       " 'mXLrVoEi80WZaZ3agBP5Jw',\n",
       " 'nOjGNqPcu5jHRRElOndQqQ',\n",
       " 'FlZ1zdVEKWv7dwqm8Uw8-w',\n",
       " '56qlj1cYlqNzmG0xllGg-w',\n",
       " '44SY464xDHbvOcjDzRbKkQ',\n",
       " 'liZmIO0FqZwslLJfLDkfgw',\n",
       " '3omBIylGFJugwLgNgUgOXw',\n",
       " 'hfMtSdxRsC3JQP3yrm6nag',\n",
       " 'Pe4cQ65ZJ9qS8JQZVkJz4g',\n",
       " 'LSTcQPMmoSdd68zur-aNdw',\n",
       " '_N92SH1Zi-Hbxn_bNHFz0Q',\n",
       " 'AIKjw2QLvVNdha3TciJYzg',\n",
       " 'ONQRhDuWv0e9R5xOiI7YAA',\n",
       " 'WJS06XxRdc6DD1s4LWE9HA',\n",
       " 'Rn3Lf7BLoMHul0dEiNtT5Q',\n",
       " 'MGd6HFEq1ALD58XWNviSXw',\n",
       " 'I6KHYESZdZQz0fnMaMyIpQ',\n",
       " 'PHSsvGDW6Rh2pGWEDTrDew',\n",
       " 'ULt3kmA0_hbZ3j6cMORCaA',\n",
       " 'ooYUO3Pq_qypc1NXFzeLYQ',\n",
       " 'axqp3pGJXnTLgq2QrPyDyQ',\n",
       " 'OwV-MtDBC2H08rVcBqP2mA',\n",
       " 'AUifp6IDKzmorCM6vY2fug',\n",
       " 'FhXjAc6nKLf414KxYujUHw',\n",
       " '8XHbZIKDQbXhyKIGiukVeQ',\n",
       " 'qrydcGQpeDP_1oFvx3qOeg',\n",
       " 'zwOAiVT4pAmpNGXzj-t5MA',\n",
       " 'iexl39DYyy_76Xq3ExaJkQ',\n",
       " '4aF0F8w7yXX9o5_QFky_ig',\n",
       " '0U9uW93o9DUnAP7r-76LVg',\n",
       " 'J9UA6rzI5WW_cDGjwDnF5g']"
      ]
     },
     "execution_count": 10,
     "metadata": {},
     "output_type": "execute_result"
    }
   ],
   "source": [
    "id=[]\n",
    "url=\"https://api.yelp.com/v3/businesses/search\"\n",
    "target_search=\"restaurants\"\n",
    "target_city=\"NYC\"\n",
    "params={\"term\":target_search,'location':target_city,\"limit\":50,\"offset\":50}\n",
    "response=requests.get(url,params=params,headers={\"Authorization\": f\"Bearer {ykey}\"})\n",
    "res=response.json()\n",
    "\n",
    "for i in range(len(res['businesses'])):\n",
    "        businessid=res[\"businesses\"][i][\"id\"]\n",
    "        id.append(businessid)\n",
    "id"
   ]
  },
  {
   "cell_type": "code",
   "execution_count": null,
   "metadata": {},
   "outputs": [],
   "source": []
  },
  {
   "cell_type": "code",
   "execution_count": null,
   "metadata": {},
   "outputs": [],
   "source": []
  }
 ],
 "metadata": {
  "kernelspec": {
   "display_name": "Python 3.7.4 64-bit ('base': conda)",
   "language": "python",
   "name": "python37464bitbasecondaf5bce65c59c24e3b855359cd100fa028"
  },
  "language_info": {
   "codemirror_mode": {
    "name": "ipython",
    "version": 3
   },
   "file_extension": ".py",
   "mimetype": "text/x-python",
   "name": "python",
   "nbconvert_exporter": "python",
   "pygments_lexer": "ipython3",
   "version": "3.7.4"
  }
 },
 "nbformat": 4,
 "nbformat_minor": 2
}
