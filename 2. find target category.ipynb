{
 "cells": [
  {
   "cell_type": "code",
   "execution_count": 2,
   "metadata": {},
   "outputs": [],
   "source": [
    "import requests\n",
    "import pandas as pd\n",
    "from config import ykey\n",
    "import numpy as np\n",
    "from matplotlib import pyplot as plt\n",
    "import json\n",
    "import csv"
   ]
  },
  {
   "cell_type": "markdown",
   "metadata": {},
   "source": [
    "## import data from step1 and calculate ratingscore"
   ]
  },
  {
   "cell_type": "code",
   "execution_count": 9,
   "metadata": {},
   "outputs": [
    {
     "data": {
      "text/html": [
       "<div>\n",
       "<style scoped>\n",
       "    .dataframe tbody tr th:only-of-type {\n",
       "        vertical-align: middle;\n",
       "    }\n",
       "\n",
       "    .dataframe tbody tr th {\n",
       "        vertical-align: top;\n",
       "    }\n",
       "\n",
       "    .dataframe thead th {\n",
       "        text-align: right;\n",
       "    }\n",
       "</style>\n",
       "<table border=\"1\" class=\"dataframe\">\n",
       "  <thead>\n",
       "    <tr style=\"text-align: right;\">\n",
       "      <th></th>\n",
       "      <th>Unnamed: 0</th>\n",
       "      <th>id</th>\n",
       "      <th>review</th>\n",
       "      <th>category</th>\n",
       "      <th>rating</th>\n",
       "      <th>city</th>\n",
       "      <th>lat</th>\n",
       "      <th>lon</th>\n",
       "      <th>ratingscore</th>\n",
       "    </tr>\n",
       "  </thead>\n",
       "  <tbody>\n",
       "    <tr>\n",
       "      <td>1373</td>\n",
       "      <td>1375</td>\n",
       "      <td>mRMgI_BaJg5L0SfewMEGnQ</td>\n",
       "      <td>1</td>\n",
       "      <td>seafood</td>\n",
       "      <td>5.0</td>\n",
       "      <td>Lansing</td>\n",
       "      <td>42.694698</td>\n",
       "      <td>-84.603952</td>\n",
       "      <td>5.000000</td>\n",
       "    </tr>\n",
       "    <tr>\n",
       "      <td>1613</td>\n",
       "      <td>1615</td>\n",
       "      <td>La7BQxKy046Ym42U2lKGSQ</td>\n",
       "      <td>1</td>\n",
       "      <td>newamerican</td>\n",
       "      <td>5.0</td>\n",
       "      <td>Orange</td>\n",
       "      <td>38.251820</td>\n",
       "      <td>-78.113865</td>\n",
       "      <td>5.000000</td>\n",
       "    </tr>\n",
       "    <tr>\n",
       "      <td>1775</td>\n",
       "      <td>1778</td>\n",
       "      <td>yMs_AC_twFfgFV6LyUPteA</td>\n",
       "      <td>1</td>\n",
       "      <td>japanese</td>\n",
       "      <td>5.0</td>\n",
       "      <td>Lacey</td>\n",
       "      <td>47.037478</td>\n",
       "      <td>-122.819501</td>\n",
       "      <td>5.000000</td>\n",
       "    </tr>\n",
       "    <tr>\n",
       "      <td>1857</td>\n",
       "      <td>1860</td>\n",
       "      <td>#NAME?</td>\n",
       "      <td>1</td>\n",
       "      <td>pizza</td>\n",
       "      <td>5.0</td>\n",
       "      <td>Pierre</td>\n",
       "      <td>44.368426</td>\n",
       "      <td>-100.356769</td>\n",
       "      <td>5.000000</td>\n",
       "    </tr>\n",
       "    <tr>\n",
       "      <td>1859</td>\n",
       "      <td>1862</td>\n",
       "      <td>3Y3zo3t0_sJwYBg5km4UCg</td>\n",
       "      <td>1</td>\n",
       "      <td>hotdogs</td>\n",
       "      <td>5.0</td>\n",
       "      <td>Pierre</td>\n",
       "      <td>44.369905</td>\n",
       "      <td>-100.360019</td>\n",
       "      <td>5.000000</td>\n",
       "    </tr>\n",
       "    <tr>\n",
       "      <td>...</td>\n",
       "      <td>...</td>\n",
       "      <td>...</td>\n",
       "      <td>...</td>\n",
       "      <td>...</td>\n",
       "      <td>...</td>\n",
       "      <td>...</td>\n",
       "      <td>...</td>\n",
       "      <td>...</td>\n",
       "      <td>...</td>\n",
       "    </tr>\n",
       "    <tr>\n",
       "      <td>403</td>\n",
       "      <td>404</td>\n",
       "      <td>y2w6rFaO0XEiG5mFfOsiFA</td>\n",
       "      <td>5022</td>\n",
       "      <td>seafood</td>\n",
       "      <td>4.5</td>\n",
       "      <td>Boston</td>\n",
       "      <td>42.363271</td>\n",
       "      <td>-71.056058</td>\n",
       "      <td>0.000896</td>\n",
       "    </tr>\n",
       "    <tr>\n",
       "      <td>229</td>\n",
       "      <td>229</td>\n",
       "      <td>bZiIIUcpgxh8mpKMDhdqbA</td>\n",
       "      <td>4602</td>\n",
       "      <td>burgers</td>\n",
       "      <td>4.0</td>\n",
       "      <td>Austin</td>\n",
       "      <td>30.249649</td>\n",
       "      <td>-97.749907</td>\n",
       "      <td>0.000869</td>\n",
       "    </tr>\n",
       "    <tr>\n",
       "      <td>1633</td>\n",
       "      <td>1635</td>\n",
       "      <td>GXFMD0Z4jEVZBCsbPf4CTQ</td>\n",
       "      <td>5425</td>\n",
       "      <td>tradamerican</td>\n",
       "      <td>4.5</td>\n",
       "      <td>Nashville</td>\n",
       "      <td>36.151387</td>\n",
       "      <td>-86.796603</td>\n",
       "      <td>0.000829</td>\n",
       "    </tr>\n",
       "    <tr>\n",
       "      <td>1101</td>\n",
       "      <td>1102</td>\n",
       "      <td>ojq84p8G6Pg0NccdDdN1jA</td>\n",
       "      <td>6110</td>\n",
       "      <td>hawaiian</td>\n",
       "      <td>4.0</td>\n",
       "      <td>Honolulu</td>\n",
       "      <td>21.276659</td>\n",
       "      <td>-157.827799</td>\n",
       "      <td>0.000655</td>\n",
       "    </tr>\n",
       "    <tr>\n",
       "      <td>1099</td>\n",
       "      <td>1100</td>\n",
       "      <td>o3edBEVjRcYJnQWrSFd9Bg</td>\n",
       "      <td>9601</td>\n",
       "      <td>japanese</td>\n",
       "      <td>4.5</td>\n",
       "      <td>Honolulu</td>\n",
       "      <td>21.279511</td>\n",
       "      <td>-157.825991</td>\n",
       "      <td>0.000469</td>\n",
       "    </tr>\n",
       "  </tbody>\n",
       "</table>\n",
       "<p>2414 rows × 9 columns</p>\n",
       "</div>"
      ],
      "text/plain": [
       "      Unnamed: 0                      id  review      category  rating  \\\n",
       "1373        1375  mRMgI_BaJg5L0SfewMEGnQ       1       seafood     5.0   \n",
       "1613        1615  La7BQxKy046Ym42U2lKGSQ       1   newamerican     5.0   \n",
       "1775        1778  yMs_AC_twFfgFV6LyUPteA       1      japanese     5.0   \n",
       "1857        1860                  #NAME?       1         pizza     5.0   \n",
       "1859        1862  3Y3zo3t0_sJwYBg5km4UCg       1       hotdogs     5.0   \n",
       "...          ...                     ...     ...           ...     ...   \n",
       "403          404  y2w6rFaO0XEiG5mFfOsiFA    5022       seafood     4.5   \n",
       "229          229  bZiIIUcpgxh8mpKMDhdqbA    4602       burgers     4.0   \n",
       "1633        1635  GXFMD0Z4jEVZBCsbPf4CTQ    5425  tradamerican     4.5   \n",
       "1101        1102  ojq84p8G6Pg0NccdDdN1jA    6110      hawaiian     4.0   \n",
       "1099        1100  o3edBEVjRcYJnQWrSFd9Bg    9601      japanese     4.5   \n",
       "\n",
       "           city        lat         lon  ratingscore  \n",
       "1373    Lansing  42.694698  -84.603952     5.000000  \n",
       "1613     Orange  38.251820  -78.113865     5.000000  \n",
       "1775      Lacey  47.037478 -122.819501     5.000000  \n",
       "1857     Pierre  44.368426 -100.356769     5.000000  \n",
       "1859     Pierre  44.369905 -100.360019     5.000000  \n",
       "...         ...        ...         ...          ...  \n",
       "403      Boston  42.363271  -71.056058     0.000896  \n",
       "229      Austin  30.249649  -97.749907     0.000869  \n",
       "1633  Nashville  36.151387  -86.796603     0.000829  \n",
       "1101   Honolulu  21.276659 -157.827799     0.000655  \n",
       "1099   Honolulu  21.279511 -157.825991     0.000469  \n",
       "\n",
       "[2414 rows x 9 columns]"
      ]
     },
     "execution_count": 9,
     "metadata": {},
     "output_type": "execute_result"
    }
   ],
   "source": [
    "path='C:/Users/rwang/Desktop/Mentos/cleandata.csv'\n",
    "file=pd.read_csv(path)\n",
    "cleandata=pd.DataFrame(file)\n",
    "ratingscore=cleandata['rating']/cleandata[\"review\"]\n",
    "cleandata[\"ratingscore\"]=ratingscore\n",
    "cleandata.sort_values(by=\"ratingscore\",ascending=False)"
   ]
  },
  {
   "cell_type": "markdown",
   "metadata": {},
   "source": [
    "## Calculate outlier review count"
   ]
  },
  {
   "cell_type": "code",
   "execution_count": 19,
   "metadata": {},
   "outputs": [
    {
     "name": "stdout",
     "output_type": "stream",
     "text": [
      "The min potential outliers review counts is 926\n"
     ]
    }
   ],
   "source": [
    "quartiles=cleandata[\"review\"].quantile([.25,.5,.75])\n",
    "lower=quartiles[0.25]\n",
    "upper=quartiles[0.75]\n",
    "iqr=upper-lower\n",
    "lowerbound=lower-1.5*iqr\n",
    "upperbound=upper+1.5*iqr\n",
    "outlier= cleandata.loc[(cleandata['review'] < lowerbound) | (cleandata['review'] > upperbound)]\n",
    "print(f\"The min potential outliers review counts is {outlier['review'].min()}\")"
   ]
  },
  {
   "cell_type": "markdown",
   "metadata": {},
   "source": [
    "## Calculate outlier ratingscore"
   ]
  },
  {
   "cell_type": "code",
   "execution_count": 28,
   "metadata": {},
   "outputs": [
    {
     "name": "stdout",
     "output_type": "stream",
     "text": [
      "The min potential outliers ratingscore is 0.13636363636363635\n"
     ]
    }
   ],
   "source": [
    "quartiles_rs=cleandata[\"ratingscore\"].quantile([.25,.5,.75])\n",
    "lower_rs=quartiles_rs[0.25]\n",
    "upper_rs=quartiles_rs[0.75]\n",
    "iqr_rs=upper_rs-lower_rs\n",
    "lowerbound_rs=lower_rs-1.5*iqr_rs\n",
    "upperbound_rs=upper_rs+1.5*iqr_rs\n",
    "outlier_rs= cleandata.loc[(cleandata['ratingscore'] < lowerbound_rs) | (cleandata['ratingscore'] > upperbound_rs)]\n",
    "print(f\"The min potential outliers ratingscore is {outlier_rs['ratingscore'].min()}\")"
   ]
  },
  {
   "cell_type": "markdown",
   "metadata": {},
   "source": [
    "#### Get analysis data"
   ]
  },
  {
   "cell_type": "code",
   "execution_count": 80,
   "metadata": {},
   "outputs": [],
   "source": [
    "data1=cleandata[cleandata[\"ratingscore\"]<0.13636363636363635]\n",
    "analysisdata=data1[data1[\"review\"]<926]\n",
    "analysisdata.to_csv(\"analysisdata\")"
   ]
  },
  {
   "cell_type": "markdown",
   "metadata": {},
   "source": [
    "#### Top 10 category based off store count"
   ]
  },
  {
   "cell_type": "code",
   "execution_count": 81,
   "metadata": {},
   "outputs": [
    {
     "data": {
      "text/plain": [
       "category\n",
       "newamerican     264\n",
       "italian         172\n",
       "tradamerican    111\n",
       "seafood          97\n",
       "mexican          80\n",
       "steak            68\n",
       "bars             64\n",
       "pizza            61\n",
       "thai             51\n",
       "southern         45\n",
       "Name: id, dtype: int64"
      ]
     },
     "execution_count": 81,
     "metadata": {},
     "output_type": "execute_result"
    }
   ],
   "source": [
    "catedata=analysisdata.groupby(analysisdata[\"category\"])\n",
    "storecount=catedata.count()\n",
    "storecount.sort_values(by=\"id\",ascending=False)[\"id\"].head(10)"
   ]
  },
  {
   "cell_type": "markdown",
   "metadata": {},
   "source": [
    "### Not suprise to see in US , American food restaurant prevales on the store number count"
   ]
  },
  {
   "cell_type": "markdown",
   "metadata": {},
   "source": [
    "#### Top 10 category based off average review count by store"
   ]
  },
  {
   "cell_type": "code",
   "execution_count": 82,
   "metadata": {},
   "outputs": [
    {
     "data": {
      "text/plain": [
       "category\n",
       "sicilian         861.0\n",
       "conveyorsushi    837.0\n",
       "gluten_free      788.0\n",
       "newmexican       698.0\n",
       "comedyclubs      576.0\n",
       "butcher          427.0\n",
       "irish_pubs       421.0\n",
       "latin            399.0\n",
       "brasseries       399.0\n",
       "tex-mex          386.0\n",
       "Name: review, dtype: float64"
      ]
     },
     "execution_count": 82,
     "metadata": {},
     "output_type": "execute_result"
    }
   ],
   "source": [
    "sum=catedata.sum()\n",
    "avgreview=round(sum/storecount,0)\n",
    "reviewsummary=avgreview.sort_values(by=\"review\",ascending=False)\n",
    "reviewsummary[\"review\"].head(10)"
   ]
  },
  {
   "cell_type": "markdown",
   "metadata": {},
   "source": [
    "### Mexican appears on the two top 10 list , might be somthing intersting to explore"
   ]
  },
  {
   "cell_type": "markdown",
   "metadata": {},
   "source": [
    "#### Looking into avg ratingscore for mexican restaurant "
   ]
  },
  {
   "cell_type": "code",
   "execution_count": 83,
   "metadata": {},
   "outputs": [
    {
     "data": {
      "text/plain": [
       "count    128.000000\n",
       "mean       0.034401\n",
       "std        0.016781\n",
       "min        0.005226\n",
       "25%        0.024636\n",
       "50%        0.031508\n",
       "75%        0.042340\n",
       "max        0.111111\n",
       "Name: ratingscore, dtype: float64"
      ]
     },
     "execution_count": 83,
     "metadata": {},
     "output_type": "execute_result"
    }
   ],
   "source": [
    "avg=catedata.mean()\n",
    "ratingsummary=avg.sort_values(by=\"ratingscore\",ascending=False)\n",
    "ratingsummary[\"ratingscore\"].describe()"
   ]
  },
  {
   "cell_type": "code",
   "execution_count": 84,
   "metadata": {},
   "outputs": [
    {
     "data": {
      "text/plain": [
       "category\n",
       "mongolian         0.111111\n",
       "musicvenues       0.077922\n",
       "cheesesteaks      0.073611\n",
       "polish            0.070839\n",
       "seafoodmarkets    0.067640\n",
       "brewpubs          0.065609\n",
       "colombian         0.064286\n",
       "venues            0.063636\n",
       "beergardens       0.063622\n",
       "szechuan          0.063187\n",
       "pakistani         0.061644\n",
       "chinese           0.059177\n",
       "beer_and_wine     0.057118\n",
       "soulfood          0.057083\n",
       "coffee            0.056693\n",
       "malaysian         0.055556\n",
       "moroccan          0.052329\n",
       "lounges           0.051263\n",
       "sportsbars        0.050956\n",
       "gourmet           0.049166\n",
       "comfortfood       0.048521\n",
       "caribbean         0.048292\n",
       "chickenshop       0.047821\n",
       "irish             0.046530\n",
       "salad             0.046432\n",
       "british           0.046275\n",
       "bakeries          0.046052\n",
       "shanghainese      0.045455\n",
       "tapas             0.045330\n",
       "portuguese        0.045305\n",
       "french            0.044008\n",
       "vietnamese        0.042681\n",
       "japanese          0.042227\n",
       "diners            0.041645\n",
       "mexican           0.041029\n",
       "Name: ratingscore, dtype: float64"
      ]
     },
     "execution_count": 84,
     "metadata": {},
     "output_type": "execute_result"
    }
   ],
   "source": [
    "ratingsummary[\"ratingscore\"].head(35)"
   ]
  },
  {
   "cell_type": "markdown",
   "metadata": {},
   "source": [
    "#### Mexican restaurant is among the top 30%, rating score wise"
   ]
  },
  {
   "cell_type": "markdown",
   "metadata": {},
   "source": [
    "## Gather data for all mexican related restaurant"
   ]
  },
  {
   "cell_type": "code",
   "execution_count": 87,
   "metadata": {},
   "outputs": [],
   "source": [
    "mexidata1=analysisdata[analysisdata[\"category\"]==\"newmexican\"]\n",
    "mexidata2=analysisdata[analysisdata[\"category\"]==\"mexican\"]\n",
    "mexidata=mexidata1.append(mexidata2).drop_duplicates(subset=\"city\",keep='first')\n",
    "mexidata.sort_values(by=\"ratingscore\",ascending=False)\n",
    "mexidata.to_csv(\"mexidata\")"
   ]
  },
  {
   "cell_type": "code",
   "execution_count": 92,
   "metadata": {},
   "outputs": [
    {
     "data": {
      "text/html": [
       "<div>\n",
       "<style scoped>\n",
       "    .dataframe tbody tr th:only-of-type {\n",
       "        vertical-align: middle;\n",
       "    }\n",
       "\n",
       "    .dataframe tbody tr th {\n",
       "        vertical-align: top;\n",
       "    }\n",
       "\n",
       "    .dataframe thead th {\n",
       "        text-align: right;\n",
       "    }\n",
       "</style>\n",
       "<table border=\"1\" class=\"dataframe\">\n",
       "  <thead>\n",
       "    <tr style=\"text-align: right;\">\n",
       "      <th></th>\n",
       "      <th>Unnamed: 0</th>\n",
       "      <th>review</th>\n",
       "      <th>rating</th>\n",
       "      <th>lat</th>\n",
       "      <th>lon</th>\n",
       "      <th>ratingscore</th>\n",
       "    </tr>\n",
       "  </thead>\n",
       "  <tbody>\n",
       "    <tr>\n",
       "      <td>count</td>\n",
       "      <td>41.000000</td>\n",
       "      <td>41.000000</td>\n",
       "      <td>41.000000</td>\n",
       "      <td>41.000000</td>\n",
       "      <td>41.000000</td>\n",
       "      <td>41.000000</td>\n",
       "    </tr>\n",
       "    <tr>\n",
       "      <td>mean</td>\n",
       "      <td>1241.024390</td>\n",
       "      <td>243.219512</td>\n",
       "      <td>4.182927</td>\n",
       "      <td>38.744173</td>\n",
       "      <td>-98.150123</td>\n",
       "      <td>0.035035</td>\n",
       "    </tr>\n",
       "    <tr>\n",
       "      <td>std</td>\n",
       "      <td>695.610397</td>\n",
       "      <td>215.296251</td>\n",
       "      <td>0.399313</td>\n",
       "      <td>6.083377</td>\n",
       "      <td>19.314004</td>\n",
       "      <td>0.029377</td>\n",
       "    </tr>\n",
       "    <tr>\n",
       "      <td>min</td>\n",
       "      <td>28.000000</td>\n",
       "      <td>36.000000</td>\n",
       "      <td>3.000000</td>\n",
       "      <td>21.352410</td>\n",
       "      <td>-157.857870</td>\n",
       "      <td>0.005597</td>\n",
       "    </tr>\n",
       "    <tr>\n",
       "      <td>25%</td>\n",
       "      <td>733.000000</td>\n",
       "      <td>98.000000</td>\n",
       "      <td>4.000000</td>\n",
       "      <td>34.033780</td>\n",
       "      <td>-112.073926</td>\n",
       "      <td>0.014423</td>\n",
       "    </tr>\n",
       "    <tr>\n",
       "      <td>50%</td>\n",
       "      <td>1171.000000</td>\n",
       "      <td>154.000000</td>\n",
       "      <td>4.000000</td>\n",
       "      <td>39.037119</td>\n",
       "      <td>-93.634530</td>\n",
       "      <td>0.027950</td>\n",
       "    </tr>\n",
       "    <tr>\n",
       "      <td>75%</td>\n",
       "      <td>1798.000000</td>\n",
       "      <td>312.000000</td>\n",
       "      <td>4.500000</td>\n",
       "      <td>41.768546</td>\n",
       "      <td>-84.288810</td>\n",
       "      <td>0.044554</td>\n",
       "    </tr>\n",
       "    <tr>\n",
       "      <td>max</td>\n",
       "      <td>2378.000000</td>\n",
       "      <td>804.000000</td>\n",
       "      <td>5.000000</td>\n",
       "      <td>58.301245</td>\n",
       "      <td>-70.892691</td>\n",
       "      <td>0.125000</td>\n",
       "    </tr>\n",
       "  </tbody>\n",
       "</table>\n",
       "</div>"
      ],
      "text/plain": [
       "        Unnamed: 0      review     rating        lat         lon  ratingscore\n",
       "count    41.000000   41.000000  41.000000  41.000000   41.000000    41.000000\n",
       "mean   1241.024390  243.219512   4.182927  38.744173  -98.150123     0.035035\n",
       "std     695.610397  215.296251   0.399313   6.083377   19.314004     0.029377\n",
       "min      28.000000   36.000000   3.000000  21.352410 -157.857870     0.005597\n",
       "25%     733.000000   98.000000   4.000000  34.033780 -112.073926     0.014423\n",
       "50%    1171.000000  154.000000   4.000000  39.037119  -93.634530     0.027950\n",
       "75%    1798.000000  312.000000   4.500000  41.768546  -84.288810     0.044554\n",
       "max    2378.000000  804.000000   5.000000  58.301245  -70.892691     0.125000"
      ]
     },
     "execution_count": 92,
     "metadata": {},
     "output_type": "execute_result"
    }
   ],
   "source": [
    "mexidata.describe()"
   ]
  },
  {
   "cell_type": "markdown",
   "metadata": {},
   "source": [
    "## Get the best rated mexican stores"
   ]
  },
  {
   "cell_type": "code",
   "execution_count": 100,
   "metadata": {},
   "outputs": [],
   "source": [
    "goodmexidata1=mexidata[mexidata[\"ratingscore\"]>0.027950]\n",
    "goodmexidata=goodmexidata1[goodmexidata1[\"rating\"]>4]\n",
    "goodmexidata.to_csv(\"goodmexidata\")"
   ]
  }
 ],
 "metadata": {
  "kernelspec": {
   "display_name": "Python 3.7.4 64-bit ('base': conda)",
   "language": "python",
   "name": "python37464bitbasecondaf5bce65c59c24e3b855359cd100fa028"
  },
  "language_info": {
   "codemirror_mode": {
    "name": "ipython",
    "version": 3
   },
   "file_extension": ".py",
   "mimetype": "text/x-python",
   "name": "python",
   "nbconvert_exporter": "python",
   "pygments_lexer": "ipython3",
   "version": "3.7.4"
  }
 },
 "nbformat": 4,
 "nbformat_minor": 2
}
